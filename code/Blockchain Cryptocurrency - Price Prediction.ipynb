{
 "cells": [
  {
   "cell_type": "code",
   "execution_count": null,
   "metadata": {},
   "outputs": [],
   "source": [
    "# Basic Libraries\n",
    "import numpy as np\n",
    "import pandas as pd\n",
    "import matplotlib.pyplot as plt\n",
    "import seaborn as sns\n",
    "\n",
    "# Time Series & ML\n",
    "from statsmodels.tsa.arima.model import ARIMA\n",
    "from statsmodels.tsa.stattools import adfuller\n",
    "from sklearn.metrics import mean_absolute_error, mean_squared_error, r2_score\n",
    "from sklearn.model_selection import train_test_split, GridSearchCV\n",
    "import xgboost as xgb\n",
    "\n",
    "# Deep Learning\n",
    "from tensorflow.keras.models import Sequential\n",
    "from tensorflow.keras.layers import LSTM, Dense, Dropout\n",
    "from tensorflow.keras.callbacks import EarlyStopping\n",
    "from sklearn.preprocessing import MinMaxScaler\n",
    "\n",
    "# Ignore warnings\n",
    "import warnings\n",
    "warnings.filterwarnings('ignore')\n"
   ]
  },
  {
   "cell_type": "code",
   "execution_count": null,
   "metadata": {},
   "outputs": [],
   "source": [
    "# Load & Explore Data\n",
    "# Load datasets (replace with actual file paths)\n",
    "btc_df = pd.read_csv('../data/btc_eth_minute_data.csv')  # Example path\n",
    "news_df = pd.read_csv('../data/crypto_news.csv')\n",
    "\n",
    "# Preview\n",
    "print(btc_df.head())\n",
    "print(news_df.head())\n"
   ]
  },
  {
   "cell_type": "code",
   "execution_count": null,
   "metadata": {},
   "outputs": [],
   "source": [
    "# Preprocess Data\n",
    "# Convert timestamps\n",
    "btc_df['Timestamp'] = pd.to_datetime(btc_df['Timestamp'])\n",
    "btc_df.set_index('Timestamp', inplace=True)\n",
    "\n",
    "# Create new features\n",
    "btc_df['Price Change %'] = btc_df['Close'].pct_change()\n",
    "btc_df['Rolling Volatility'] = btc_df['Close'].rolling(window=7).std()\n",
    "btc_df['10MA'] = btc_df['Close'].rolling(window=10).mean()\n",
    "btc_df['30MA'] = btc_df['Close'].rolling(window=30).mean()\n",
    "btc_df.dropna(inplace=True)\n"
   ]
  },
  {
   "cell_type": "code",
   "execution_count": null,
   "metadata": {},
   "outputs": [],
   "source": [
    "# Train-Test Split for LSTM\n",
    "# Normalize and shape for LSTM\n",
    "scaler = MinMaxScaler()\n",
    "scaled_close = scaler.fit_transform(btc_df[['Close']])\n",
    "\n",
    "X, y = [], []\n",
    "for i in range(60, len(scaled_close)):\n",
    "    X.append(scaled_close[i-60:i])\n",
    "    y.append(scaled_close[i])\n",
    "\n",
    "X, y = np.array(X), np.array(y)\n",
    "\n",
    "# Split\n",
    "X_train, X_test = X[:int(0.8*len(X))], X[int(0.8*len(X)):]\n",
    "y_train, y_test = y[:int(0.8*len(y))], y[int(0.8*len(y)):]\n"
   ]
  },
  {
   "cell_type": "code",
   "execution_count": null,
   "metadata": {},
   "outputs": [],
   "source": [
    "# LSTM Model\n",
    "model = Sequential()\n",
    "model.add(LSTM(50, return_sequences=True, input_shape=(X_train.shape[1], 1)))\n",
    "model.add(Dropout(0.2))\n",
    "model.add(LSTM(50, return_sequences=False))\n",
    "model.add(Dropout(0.2))\n",
    "model.add(Dense(1))\n",
    "\n",
    "model.compile(optimizer='adam', loss='mean_squared_error')\n",
    "early_stop = EarlyStopping(monitor='val_loss', patience=5)\n",
    "\n",
    "history = model.fit(X_train, y_train, validation_data=(X_test, y_test),\n",
    "                    epochs=20, batch_size=64, callbacks=[early_stop])\n"
   ]
  },
  {
   "cell_type": "code",
   "execution_count": null,
   "metadata": {},
   "outputs": [],
   "source": [
    "# XGBoost Model\n",
    "# Feature Engineering for XGBoost\n",
    "features = ['Price Change %', 'Rolling Volatility', '10MA', '30MA']\n",
    "target = 'Close'\n",
    "\n",
    "btc_df.dropna(inplace=True)\n",
    "X = btc_df[features]\n",
    "y = btc_df[target]\n",
    "\n",
    "X_train_xgb, X_test_xgb, y_train_xgb, y_test_xgb = train_test_split(X, y, test_size=0.2, shuffle=False)\n",
    "\n",
    "xgb_model = xgb.XGBRegressor(objective='reg:squarederror')\n",
    "xgb_model.fit(X_train_xgb, y_train_xgb)\n",
    "\n",
    "y_pred_xgb = xgb_model.predict(X_test_xgb)\n"
   ]
  },
  {
   "cell_type": "code",
   "execution_count": null,
   "metadata": {},
   "outputs": [],
   "source": [
    "# ARIMA Model \n",
    "# Test stationarity\n",
    "adf_result = adfuller(btc_df['Close'])\n",
    "print('ADF Statistic:', adf_result[0])\n",
    "print('p-value:', adf_result[1])\n",
    "\n",
    "# Train ARIMA\n",
    "model_arima = ARIMA(btc_df['Close'], order=(5,1,0))\n",
    "result_arima = model_arima.fit()\n",
    "btc_df['forecast_arima'] = result_arima.predict(start=200, end=300, typ='levels')\n"
   ]
  },
  {
   "cell_type": "code",
   "execution_count": null,
   "metadata": {},
   "outputs": [],
   "source": [
    "# Evaluation\n",
    "# LSTM Eval\n",
    "predicted_prices = model.predict(X_test)\n",
    "predicted_prices = scaler.inverse_transform(predicted_prices)\n",
    "actual_prices = scaler.inverse_transform(y_test)\n",
    "\n",
    "print(\"LSTM RMSE:\", np.sqrt(mean_squared_error(actual_prices, predicted_prices)))\n",
    "print(\"LSTM MAE:\", mean_absolute_error(actual_prices, predicted_prices))\n",
    "\n",
    "# XGBoost Eval\n",
    "print(\"XGBoost RMSE:\", np.sqrt(mean_squared_error(y_test_xgb, y_pred_xgb)))\n",
    "print(\"XGBoost MAE:\", mean_absolute_error(y_test_xgb, y_pred_xgb))\n"
   ]
  },
  {
   "cell_type": "code",
   "execution_count": null,
   "metadata": {},
   "outputs": [],
   "source": [
    "# Save Figures\n",
    "# LSTM Loss Curve\n",
    "plt.figure(figsize=(10, 5))\n",
    "plt.plot(history.history['loss'], label='train')\n",
    "plt.plot(history.history['val_loss'], label='val')\n",
    "plt.title(\"LSTM Loss Curve\")\n",
    "plt.legend()\n",
    "plt.savefig('../graph/lstm_loss_curve.png')\n"
   ]
  }
 ],
 "metadata": {
  "kernelspec": {
   "display_name": "Python 3",
   "language": "python",
   "name": "python3"
  },
  "language_info": {
   "codemirror_mode": {
    "name": "ipython",
    "version": 3
   },
   "file_extension": ".py",
   "mimetype": "text/x-python",
   "name": "python",
   "nbconvert_exporter": "python",
   "pygments_lexer": "ipython3",
   "version": "3.6.10"
  }
 },
 "nbformat": 4,
 "nbformat_minor": 2
}
